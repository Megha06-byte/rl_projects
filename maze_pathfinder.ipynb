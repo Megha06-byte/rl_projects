{
  "nbformat": 4,
  "nbformat_minor": 0,
  "metadata": {
    "colab": {
      "provenance": []
    },
    "kernelspec": {
      "name": "python3",
      "display_name": "Python 3"
    },
    "language_info": {
      "name": "python"
    }
  },
  "cells": [
    {
      "cell_type": "code",
      "source": [
        "import matplotlib.pyplot as plt\n",
        "import numpy as np\n",
        "\n",
        "\n",
        "maze = np.array([\n",
        "    ['#', '#', '#', '#', '#', '#', '#', '#', '#', '#'],\n",
        "    ['#', ' ', ' ', '#', '#', ' ', 'S', '#', ' ', '#'],\n",
        "    ['#', ' ', ' ', ' ', '#', ' ', '#', ' ', ' ', '#'],\n",
        "    ['#', '#', '#', ' ', '#', ' ', '#', '#', ' ', '#'],\n",
        "    ['#', ' ', '#', ' ', ' ', ' ', ' ', '#', ' ', '#'],\n",
        "    ['#', ' ', '#', '#', '#', '#', ' ', '#', ' ', '#'],\n",
        "    ['#', ' ', ' ', ' ', ' ', '#', ' ', ' ', ' ', '#'],\n",
        "    ['#', '#', '#', '#', ' ', '#', '#', '#', ' ', '#'],\n",
        "    ['#', ' ', ' ', ' ', ' ', ' ', ' ', '#', 'E', '#'],\n",
        "    ['#', '#', '#', '#', '#', '#', '#', '#', '#', '#']\n",
        "])\n",
        "\n",
        "color_map = {\n",
        "    '#': [0, 0, 0],    # black\n",
        "    'S': [0, 1, 0],    # green\n",
        "    'E': [1, 0, 0],    # red\n",
        "    ' ': [1, 1, 1]     # white\n",
        "}\n",
        "\n",
        "img = np.zeros((*maze.shape, 3))\n",
        "for i in range(maze.shape[0]):\n",
        "    for j in range(maze.shape[1]):\n",
        "        img[i, j] = color_map[maze[i, j]]\n",
        "\n",
        "plt.figure(figsize=(5,5))\n",
        "plt.imshow(img)\n",
        "plt.axis('off')\n",
        "plt.show()\n"
      ],
      "metadata": {
        "colab": {
          "base_uri": "https://localhost:8080/",
          "height": 422
        },
        "id": "m-d-zZT3Q5oC",
        "outputId": "f7bb3b49-45ac-4805-b969-49b5d08dd527"
      },
      "execution_count": 73,
      "outputs": [
        {
          "output_type": "display_data",
          "data": {
            "text/plain": [
              "<Figure size 500x500 with 1 Axes>"
            ],
            "image/png": "[encoded data removed]"
          },
          "metadata": {}
        }
      ]
    },
    {
      "cell_type": "code",
      "source": [
        "#defining the states and actions\n",
        "actions = {\n",
        "    'up': (-1,0),\n",
        "    'down': (1,0),\n",
        "    'left': (0,-1),\n",
        "    'right': (0,1)\n",
        "}\n",
        "\n",
        "#state : each cell in maze grid is a state\n",
        "action_list = list(actions.keys())\n",
        "num_actions = len(action_list)\n",
        "state_dim = 2  # (row, col)"
      ],
      "metadata": {
        "id": "t16Z-xuzRVKk"
      },
      "execution_count": 10,
      "outputs": []
    },
    {
      "cell_type": "code",
      "source": [
        "def step(current_state, action, actions):\n",
        "  drow, dcol = actions[action]\n",
        "  next_state = (current_state[0] + drow, current_state[1] + dcol)\n",
        "  return next_state\n",
        "#initialising state values\n",
        "V = np.zeros((len(maze), len(maze[0])))\n",
        "\n",
        "#discount factor\n",
        "gamma = 0.9\n",
        "\n",
        "#Find start and end position\n",
        "start = np.argwhere(maze == 'S')[0]\n",
        "end = np.argwhere(maze == 'E')[0]\n"
      ],
      "metadata": {
        "id": "AG6TMFR6R_GA"
      },
      "execution_count": 74,
      "outputs": []
    },
    {
      "cell_type": "code",
      "source": [
        "all_states = []\n",
        "for i in range(maze.shape[0]):\n",
        "    for j in range(maze.shape[1]):\n",
        "        if maze[i, j] != '#':  # not a wall\n",
        "            all_states.append((i, j))\n"
      ],
      "metadata": {
        "id": "V4XufHnxZgvg"
      },
      "execution_count": 56,
      "outputs": []
    },
    {
      "cell_type": "code",
      "source": [
        "def step(current_state, action, actions, maze):\n",
        "    i, j = current_state\n",
        "    drow, dcol = actions[action]\n",
        "    ni, nj = i + drow, j + dcol\n",
        "    # Check bounds and wall\n",
        "    if 0 <= ni < maze.shape[0] and 0 <= nj < maze.shape[1] and maze[ni, nj] != '#':\n",
        "        return (ni, nj)\n",
        "    else:\n",
        "        return (i, j)  # Stay in place if wall or out of bounds\n",
        "\n",
        "policy = {}\n",
        "for _ in range(100):\n",
        "    for i, j in all_states:\n",
        "        if (i, j) == end:\n",
        "            continue\n",
        "        max_value = -np.inf\n",
        "        max_action = None\n",
        "        for action in actions:\n",
        "            next_state = step((i, j), action, actions, maze)\n",
        "            if maze[next_state] == '#':\n",
        "                reward = -1\n",
        "            elif next_state == end:\n",
        "                reward = 1\n",
        "            else:\n",
        "                reward = 0\n",
        "            value = reward + gamma * V[next_state] #updation using the bellman equation\n",
        "            if value > max_value:\n",
        "                max_value = value\n",
        "                max_action = action\n",
        "        policy[(i, j)] = max_action\n",
        "        V[(i, j)] = max_value\n"
      ],
      "metadata": {
        "id": "0wLhrnG5SicS"
      },
      "execution_count": 78,
      "outputs": []
    },
    {
      "cell_type": "code",
      "source": [
        "print(V)"
      ],
      "metadata": {
        "colab": {
          "base_uri": "https://localhost:8080/"
        },
        "id": "aDLYEjr6aVFE",
        "outputId": "2df19afe-ed6a-4578-9af9-172f57047044"
      },
      "execution_count": 79,
      "outputs": [
        {
          "output_type": "stream",
          "name": "stdout",
          "text": [
            "[[0.         0.         0.         0.         0.         0.\n",
            "  0.         0.         0.         0.        ]\n",
            " [0.         0.25418658 0.28242954 0.         0.         0.38742049\n",
            "  0.34867844 0.         0.531441   0.        ]\n",
            " [0.         0.28242954 0.3138106  0.34867844 0.         0.43046721\n",
            "  0.         0.531441   0.59049    0.        ]\n",
            " [0.         0.         0.         0.38742049 0.         0.4782969\n",
            "  0.         0.         0.6561     0.        ]\n",
            " [0.         0.         0.         0.43046721 0.4782969  0.531441\n",
            "  0.59049    0.         0.729      0.        ]\n",
            " [0.         0.         0.         0.         0.         0.\n",
            "  0.6561     0.         0.81       0.        ]\n",
            " [0.         0.         0.         0.         0.         0.\n",
            "  0.729      0.81       0.9        0.        ]\n",
            " [0.         0.         0.         0.         0.         0.\n",
            "  0.         0.         1.         0.        ]\n",
            " [0.         0.         0.         0.         0.         0.\n",
            "  0.         0.         0.         0.        ]\n",
            " [0.         0.         0.         0.         0.         0.\n",
            "  0.         0.         0.         0.        ]]\n"
          ]
        }
      ]
    },
    {
      "cell_type": "code",
      "source": [
        "print(policy)"
      ],
      "metadata": {
        "colab": {
          "base_uri": "https://localhost:8080/"
        },
        "id": "c_6pX6AkaX8b",
        "outputId": "b434a399-9634-4c6f-92de-39c1aeba9382"
      },
      "execution_count": 80,
      "outputs": [
        {
          "output_type": "stream",
          "name": "stdout",
          "text": [
            "{(1, 1): 'down', (1, 2): 'down', (1, 5): 'down', (1, 6): 'left', (1, 8): 'down', (2, 1): 'right', (2, 2): 'right', (2, 3): 'down', (2, 5): 'down', (2, 7): 'right', (2, 8): 'down', (3, 3): 'down', (3, 5): 'down', (3, 8): 'down', (4, 1): 'up', (4, 3): 'right', (4, 4): 'right', (4, 5): 'right', (4, 6): 'down', (4, 8): 'down', (5, 1): 'up', (5, 6): 'down', (5, 8): 'down', (6, 1): 'up', (6, 2): 'up', (6, 3): 'up', (6, 4): 'up', (6, 6): 'right', (6, 7): 'right', (6, 8): 'down', (7, 4): 'up', (7, 8): 'down', (8, 1): 'up', (8, 2): 'up', (8, 3): 'up', (8, 4): 'up', (8, 5): 'up', (8, 6): 'up'}\n"
          ]
        }
      ]
    },
    {
      "cell_type": "code",
      "source": [
        "import matplotlib.pyplot as plt\n",
        "import numpy as np\n",
        "\n",
        "\n",
        "current = start\n",
        "trajectory = [current]\n",
        "visited = set()\n",
        "max_steps = 100  # Prevents infinite loops\n",
        "\n",
        "for _ in range(max_steps):\n",
        "    if current == end or current not in policy:\n",
        "        break\n",
        "    action = policy[current]\n",
        "    di, dj = actions[action]\n",
        "    next_state = (current[0] + di, current[1] + dj)\n",
        "    # Check for wall or out-of-bounds\n",
        "    if maze[next_state] == '#' or not (0 <= next_state[0] < maze.shape[0] and 0 <= next_state[1] < maze.shape[1]):\n",
        "        break\n",
        "    if next_state in visited:\n",
        "        # Loop detected, stop\n",
        "        break\n",
        "    trajectory.append(next_state)\n",
        "    visited.add(current)\n",
        "    current = next_state\n"
      ],
      "metadata": {
        "id": "3-WEgiHuangZ"
      },
      "execution_count": 81,
      "outputs": []
    },
    {
      "cell_type": "code",
      "source": [
        "# Create a color map for the maze\n",
        "color_map = {\n",
        "    '#': [0, 0, 0],    # black\n",
        "    'S': [0, 1, 0],    # green\n",
        "    'E': [1, 0, 0],    # red\n",
        "    ' ': [1, 1, 1]     # white\n",
        "}\n",
        "img = np.zeros((*maze.shape, 3))\n",
        "for i in range(maze.shape[0]):\n",
        "    for j in range(maze.shape[1]):\n",
        "        img[i, j] = color_map[maze[i, j]]\n",
        "\n",
        "plt.figure(figsize=(5, 5))\n",
        "plt.imshow(img, interpolation='nearest')\n",
        "plt.axis('off')\n",
        "\n",
        "# Plot the agent's path\n",
        "path_y, path_x = zip(*trajectory)\n",
        "plt.plot(path_x, path_y, marker='o', color='blue', linewidth=2, markersize=12, label='Agent Path')\n",
        "plt.scatter([start[1]], [start[0]], color='lime', s=200, edgecolors='black', label='Start')\n",
        "plt.scatter([end[1]], [end[0]], color='red', s=200, edgecolors='black', label='End')\n",
        "plt.legend(loc='upper right')\n",
        "plt.title('Agent Path Following Greedy Policy')\n",
        "plt.show()\n"
      ],
      "metadata": {
        "colab": {
          "base_uri": "https://localhost:8080/",
          "height": 444
        },
        "id": "J9bmEAZ0cE08",
        "outputId": "22139f44-2d09-49ad-f549-4bddf5fbb310"
      },
      "execution_count": 82,
      "outputs": [
        {
          "output_type": "display_data",
          "data": {
            "text/plain": [
              "<Figure size 500x500 with 1 Axes>"
            ],
            "image/png": "[encoded data removed]"
          },
          "metadata": {}
        }
      ]
    },
    {
      "cell_type": "code",
      "source": [],
      "metadata": {
        "id": "gB2pI9q3cHAw"
      },
      "execution_count": null,
      "outputs": []
    }
  ]
}